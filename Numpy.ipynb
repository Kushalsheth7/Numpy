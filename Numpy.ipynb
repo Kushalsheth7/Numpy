{
 "cells": [
  {
   "cell_type": "code",
   "execution_count": 8,
   "id": "3f84c0db-0f57-4828-9bbd-2b4d4f78d225",
   "metadata": {},
   "outputs": [
    {
     "name": "stdout",
     "output_type": "stream",
     "text": [
      "Name of the first person: Kushal\n",
      "Age of the second person: 30\n",
      "Height of the third person: 6.0\n",
      "Average height: 5.8333335\n",
      "[('Kushal', 25, 5.6) ('Zuck', 30, 5.9) ('Musk', 35, 6. )]\n"
     ]
    }
   ],
   "source": [
    "import numpy as np\n",
    "\n",
    "\n",
    "person_dtype = np.dtype([('name', 'U10'),  \n",
    "                         ('age', 'i4'),    \n",
    "                         ('height', 'f4')  \n",
    "                         ])\n",
    "\n",
    "\n",
    "people = np.array([('Kushal', 25, 5.6),\n",
    "                   ('Zuck', 30, 5.9),\n",
    "                   ('Musk', 35, 6.0)],\n",
    "                  dtype=person_dtype)\n",
    "\n",
    "\n",
    "print(\"Name of the first person:\", people[0]['name'])\n",
    "print(\"Age of the second person:\", people[1]['age'])\n",
    "print(\"Height of the third person:\", people[2]['height'])\n",
    "\n",
    "\n",
    "average_height = np.mean(people['height'])\n",
    "print(\"Average height:\", average_height)\n",
    "\n",
    "\n",
    "print(people)\n"
   ]
  },
  {
   "cell_type": "code",
   "execution_count": null,
   "id": "4852e546-86ed-4c81-b3f6-54d4909f4257",
   "metadata": {},
   "outputs": [],
   "source": []
  }
 ],
 "metadata": {
  "kernelspec": {
   "display_name": "Python 3 (ipykernel)",
   "language": "python",
   "name": "python3"
  },
  "language_info": {
   "codemirror_mode": {
    "name": "ipython",
    "version": 3
   },
   "file_extension": ".py",
   "mimetype": "text/x-python",
   "name": "python",
   "nbconvert_exporter": "python",
   "pygments_lexer": "ipython3",
   "version": "3.12.0"
  }
 },
 "nbformat": 4,
 "nbformat_minor": 5
}
